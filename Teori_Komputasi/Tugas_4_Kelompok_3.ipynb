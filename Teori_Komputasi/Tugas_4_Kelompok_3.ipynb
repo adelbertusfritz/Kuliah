{
 "cells": [
  {
   "cell_type": "markdown",
   "metadata": {},
   "source": [
    "# Listing Program Tugas 4 Kelompok 3\n",
    "- Rifdah Salsabila - 2106663016\n",
    "- Elsya Nareswari - 2106702535\n",
    "- Jesica Andriana - 2106726163\n",
    "- Fritz Adelbertus Sitindaon - 2206027904"
   ]
  },
  {
   "cell_type": "markdown",
   "metadata": {},
   "source": [
    "## Konstruksi Kelas State dan Automata Hingga Deteministik"
   ]
  },
  {
   "cell_type": "code",
   "execution_count": 1,
   "metadata": {},
   "outputs": [],
   "source": [
    "class State():\n",
    "    def __init__(self, name):\n",
    "        self.name = name\n",
    "        self.acceptor = False\n",
    "        self.transitions = {}\n",
    "    \n",
    "    # Helpers\n",
    "    def getName(self):\n",
    "        return self.name\n",
    "    \n",
    "    def setAccept(self):\n",
    "        self.acceptor = True\n",
    "\n",
    "    def isAcceptor(self):\n",
    "        return self.acceptor\n",
    "    \n",
    "    # Add Transitions\n",
    "    def addTransition(self, transition):\n",
    "        self.transitions[transition[0]] = transition[1]\n",
    "        \n",
    "    # Move\n",
    "    def move(self, input):\n",
    "        return self.transitions[input]\n",
    "    \n",
    "    \n",
    "\n",
    "class AHD():\n",
    "    # Initilize\n",
    "    def __init__(self, states, alfabets, init, accepts, transitions):\n",
    "        self.states = states\n",
    "        self.alfabets = alfabets\n",
    "        self.init = init\n",
    "        self.accepts = accepts\n",
    "        self.transitions = transitions\n",
    "        self.current = None\n",
    "        # Language generator\n",
    "        self.language = []\n",
    "        self.depth = 0\n",
    "        self.depth_state = []\n",
    "    \n",
    "    # Helper\n",
    "    def findState(self, name):\n",
    "        for state in self.states:\n",
    "            if state.getName() == name:\n",
    "                return state\n",
    "    \n",
    "    # Build\n",
    "    def build(self):\n",
    "        self.states = [State(i) for i in self.states]\n",
    "        self.init = self.findState(self.init)\n",
    "        for acceptor in self.accepts:\n",
    "            self.findState(acceptor).setAccept()\n",
    "        for transition in self.transitions:\n",
    "            self.findState(transition[0]).addTransition(transition[1])\n",
    "        self.depth_state.append((self.init, ''))\n",
    "        if self.init.isAcceptor():\n",
    "            self.language.append([''])\n",
    "        else:\n",
    "            self.language.append([])\n",
    "    \n",
    "    # Check\n",
    "    def checkLanguage(self, language):\n",
    "        self.current = self.init\n",
    "        for alfabet in language:\n",
    "            if alfabet not in self.alfabets:\n",
    "                return\n",
    "            self.current = self.findState(self.current.move(alfabet))\n",
    "        if self.current.isAcceptor():\n",
    "            return f'{language} is valid'\n",
    "        return f'{language} is not valid'\n",
    "    \n",
    "    # Generate\n",
    "    def getLanguage(self, depth):\n",
    "        if self.depth < depth:\n",
    "            self.generateLanguage(depth)\n",
    "        box = []\n",
    "        for i in range(depth + 1):\n",
    "            for j in self.language[i]:\n",
    "                box.append(j)\n",
    "        return box\n",
    "    \n",
    "    def generateLanguage(self, depth):\n",
    "        container = []\n",
    "        mini = []\n",
    "        while self.depth < depth:\n",
    "            self.depth += 1\n",
    "            while len(self.depth_state) > 0:\n",
    "                (curr, t) = self.depth_state.pop()\n",
    "                for i in self.alfabets:\n",
    "                    container.append((self.findState(curr.move(i)), f'{t}{i}'))\n",
    "                \n",
    "            for (state,l) in container:\n",
    "                if state.isAcceptor():\n",
    "                    mini.append(l)\n",
    "            self.depth_state = container\n",
    "            container = []\n",
    "            self.language.append(mini)\n",
    "            mini = []\n",
    "\n",
    "    "
   ]
  },
  {
   "cell_type": "markdown",
   "metadata": {},
   "source": [
    "### SOAL 1"
   ]
  },
  {
   "cell_type": "code",
   "execution_count": 2,
   "metadata": {},
   "outputs": [],
   "source": [
    "states1 = ['q0','q1','q2','q3','q4','q5','q6','q7']\n",
    "alfabets1 = ['a', 'b']\n",
    "init1 = 'q0'\n",
    "accepts1 = ['q0','q1','q2','q3','q4','q6','q7']\n",
    "transitions1 = [\n",
    "    ['q0', ('a', 'q1')],\n",
    "    ['q0', ('b', 'q2')],\n",
    "    ['q1', ('a', 'q3')],\n",
    "    ['q1', ('b', 'q2')],\n",
    "    ['q2', ('a', 'q1')],\n",
    "    ['q2', ('b', 'q4')],\n",
    "    ['q3', ('a', 'q5')],\n",
    "    ['q3', ('b', 'q6')],\n",
    "    ['q4', ('a', 'q7')],\n",
    "    ['q4', ('b', 'q5')],\n",
    "    ['q5', ('a', 'q5')],\n",
    "    ['q5', ('b', 'q5')],\n",
    "    ['q6', ('a', 'q7')],\n",
    "    ['q6', ('b', 'q5')],\n",
    "    ['q7', ('a', 'q5')],\n",
    "    ['q7', ('b', 'q6')],\n",
    "]"
   ]
  },
  {
   "cell_type": "code",
   "execution_count": 3,
   "metadata": {},
   "outputs": [],
   "source": [
    "soal1 = AHD(states1, alfabets1, init1, accepts1, transitions1)\n",
    "soal1.build()"
   ]
  },
  {
   "cell_type": "markdown",
   "metadata": {},
   "source": [
    "Lihat bahasa yang dihasilkan sampai generasi ke 4"
   ]
  },
  {
   "cell_type": "code",
   "execution_count": null,
   "metadata": {},
   "outputs": [],
   "source": [
    "soal1.getLanguage(4)"
   ]
  },
  {
   "cell_type": "markdown",
   "metadata": {},
   "source": [
    "Uji dengan sembarang kemungkinan"
   ]
  },
  {
   "cell_type": "code",
   "execution_count": null,
   "metadata": {},
   "outputs": [],
   "source": [
    "print(soal1.checkLanguage('aabb'))\n",
    "print(soal1.checkLanguage('bbbb'))\n",
    "print(soal1.checkLanguage('abababababababab'))\n",
    "print(soal1.checkLanguage('babbab'))"
   ]
  },
  {
   "cell_type": "markdown",
   "metadata": {},
   "source": [
    "### SOAL 2"
   ]
  },
  {
   "cell_type": "code",
   "execution_count": 6,
   "metadata": {},
   "outputs": [],
   "source": [
    "states2 = ['q0','q1','q2','q3', 'q4', 'q5','q6', 'q7']\n",
    "alfabets2 = ['a', 'b']\n",
    "init2 = 'q0'\n",
    "accepts2 = ['q3', 'q5','q7']\n",
    "transitions2 = [\n",
    "    ['q0', ('a', 'q1')],\n",
    "    ['q0', ('b', 'q2')],\n",
    "    ['q1', ('a', 'q3')],\n",
    "    ['q1', ('b', 'q4')],\n",
    "    ['q2', ('a', 'q6')],\n",
    "    ['q2', ('b', 'q3')],\n",
    "    ['q3', ('a', 'q3')],\n",
    "    ['q3', ('b', 'q3')],\n",
    "    ['q4', ('a', 'q6')],\n",
    "    ['q4', ('b', 'q5')],\n",
    "    ['q5', ('a', 'q6')],\n",
    "    ['q5', ('b', 'q5')],\n",
    "    ['q6', ('a', 'q7')],\n",
    "    ['q6', ('b', 'q4')],\n",
    "    ['q7', ('a', 'q7')],\n",
    "    ['q7', ('b', 'q4')],\n",
    "]"
   ]
  },
  {
   "cell_type": "code",
   "execution_count": 7,
   "metadata": {},
   "outputs": [],
   "source": [
    "soal2 = AHD(states2, alfabets2, init2, accepts2, transitions2)\n",
    "soal2.build()"
   ]
  },
  {
   "cell_type": "markdown",
   "metadata": {},
   "source": [
    "Lihat Bahasa yang dihasilkan sampai generasi ke 3"
   ]
  },
  {
   "cell_type": "code",
   "execution_count": null,
   "metadata": {},
   "outputs": [],
   "source": [
    "soal2.getLanguage(3)"
   ]
  },
  {
   "cell_type": "markdown",
   "metadata": {},
   "source": [
    "Uji dengan sembarang kemungkinan"
   ]
  },
  {
   "cell_type": "code",
   "execution_count": null,
   "metadata": {},
   "outputs": [],
   "source": [
    "print(soal2.checkLanguage('aabb'))\n",
    "print(soal2.checkLanguage('bbbb'))\n",
    "print(soal2.checkLanguage('abababababababab'))\n",
    "print(soal2.checkLanguage('babbab'))"
   ]
  },
  {
   "cell_type": "markdown",
   "metadata": {},
   "source": [
    "### SOAL 3"
   ]
  },
  {
   "cell_type": "code",
   "execution_count": 10,
   "metadata": {},
   "outputs": [],
   "source": [
    "states3 = ['q0','q1','q2','q3']\n",
    "alfabets3 = ['a', 'b']\n",
    "init3 = 'q0'\n",
    "accepts3 = ['q0']\n",
    "transitions3 = [\n",
    "    ['q0', ('a', 'q1')],\n",
    "    ['q0', ('b', 'q2')],\n",
    "    ['q1', ('a', 'q0')],\n",
    "    ['q1', ('b', 'q3')],\n",
    "    ['q2', ('a', 'q3')],\n",
    "    ['q2', ('b', 'q0')],\n",
    "    ['q3', ('a', 'q2')],\n",
    "    ['q3', ('b', 'q1')],\n",
    "]"
   ]
  },
  {
   "cell_type": "code",
   "execution_count": 11,
   "metadata": {},
   "outputs": [],
   "source": [
    "soal3 = AHD(states3, alfabets3, init3, accepts3, transitions3)\n",
    "soal3.build()"
   ]
  },
  {
   "cell_type": "markdown",
   "metadata": {},
   "source": [
    "Lihat bahasa yang dihasilkan sampai generasi ke 5"
   ]
  },
  {
   "cell_type": "code",
   "execution_count": null,
   "metadata": {},
   "outputs": [],
   "source": [
    "soal3.getLanguage(5)"
   ]
  },
  {
   "cell_type": "markdown",
   "metadata": {},
   "source": [
    "Uji dengan sembarang kemungkinan"
   ]
  },
  {
   "cell_type": "code",
   "execution_count": null,
   "metadata": {},
   "outputs": [],
   "source": [
    "print(soal3.checkLanguage('aabb'))\n",
    "print(soal3.checkLanguage('bbbb'))\n",
    "print(soal3.checkLanguage('abb'))\n",
    "print(soal3.checkLanguage('aab'))"
   ]
  }
 ],
 "metadata": {
  "kernelspec": {
   "display_name": "Python 3",
   "language": "python",
   "name": "python3"
  },
  "language_info": {
   "codemirror_mode": {
    "name": "ipython",
    "version": 3
   },
   "file_extension": ".py",
   "mimetype": "text/x-python",
   "name": "python",
   "nbconvert_exporter": "python",
   "pygments_lexer": "ipython3",
   "version": "3.11.5"
  }
 },
 "nbformat": 4,
 "nbformat_minor": 2
}
