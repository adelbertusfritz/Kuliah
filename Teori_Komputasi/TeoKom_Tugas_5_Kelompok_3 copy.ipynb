{
 "cells": [
  {
   "cell_type": "markdown",
   "metadata": {
    "id": "-e1PsG_IDTRj"
   },
   "source": [
    "# Listing Program Tugas 5 Kelompok 3\n",
    "- Rifdah Salsabila - 2106653016\n",
    "- Elsya Nareswari - 2106702535\n",
    "- Jesica Andriana - 2106726163\n",
    "- Fritz Adelbertus Sitindaon - 2206027904"
   ]
  },
  {
   "cell_type": "markdown",
   "metadata": {
    "id": "pFqKO50VDTRl"
   },
   "source": [
    "## Konstruksi Kelas State dan Automata Hingga Nondeteministik"
   ]
  },
  {
   "cell_type": "code",
   "execution_count": null,
   "metadata": {
    "id": "ysAjD6qIDTRm"
   },
   "outputs": [],
   "source": [
    "from functools import reduce\n",
    "class State():\n",
    "    def __init__(self, name):\n",
    "        self.name = name\n",
    "        self.acceptor = False\n",
    "        self.transitions = {\"/l\": []}\n",
    "\n",
    "    # Helpers\n",
    "    def getName(self):\n",
    "        return self.name\n",
    "\n",
    "    def setAccept(self):\n",
    "        self.acceptor = True\n",
    "\n",
    "    def isAcceptor(self):\n",
    "        return self.acceptor\n",
    "\n",
    "    # Add Transitions\n",
    "    def addTransition(self, transition):\n",
    "        self.transitions[transition[0]] = transition[1]\n",
    "\n",
    "    # Move\n",
    "    def moves(self, word, input, stacks):\n",
    "        if input in list(self.transitions.keys()):\n",
    "          res = []\n",
    "          for (state,pop,push) in self.transitions[input]:\n",
    "              if pop == '/l':\n",
    "                  if push == '/l':\n",
    "                      res.append((state,word,stacks))\n",
    "                  else:\n",
    "                      res.append((state,word,stacks+[push]))\n",
    "              else:\n",
    "                  if push == '/l':\n",
    "                      res.append((state,word[1:],stacks))\n",
    "                  else:\n",
    "                      res.append((state,word[1:],stacks+[push]))\n",
    "          return res\n",
    "        else:\n",
    "          return []\n",
    "\n",
    "\n",
    "class PDA():\n",
    "    # Initilize\n",
    "    def __init__(self, states, alfabets, init, accepts, transitions, stackInit):\n",
    "        self.states = states\n",
    "        self.alfabets = alfabets\n",
    "        self.init = init\n",
    "        self.accepts = accepts\n",
    "        self.transitions = transitions\n",
    "        self.current = None\n",
    "        self.stack = []\n",
    "        self.stackInit = stackInit\n",
    "\n",
    "    # Helper\n",
    "    def findState(self, name):\n",
    "        for state in self.states:\n",
    "            if state.getName() == name:\n",
    "                return state\n",
    "    \n",
    "    def findStateT(self, transition):\n",
    "        for state in self.states:\n",
    "            if state.getName() == transition[0]:\n",
    "                return state\n",
    "\n",
    "    # Build\n",
    "    def build(self):\n",
    "        self.states = [State(i) for i in self.states]\n",
    "        self.init = self.findState(self.init)\n",
    "        for acceptor in self.accepts:\n",
    "            self.findState(acceptor).setAccept()\n",
    "        for transition in self.transitions:\n",
    "            self.findState(transition[0]).addTransition(transition[1])\n",
    "    \n",
    "    # def manipStack(self, stack, poppush):\n",
    "    #     ret = stack\n",
    "    #     if poppush[1] == stack[-1]: # pop something\n",
    "    #         ret = ret[:-1]\n",
    "    #     if poppush[2] != '/l':\n",
    "    #         ret += poppush[2]\n",
    "    #     return ret\n",
    "\n",
    "\n",
    "    # def traverse(self, word, current):\n",
    "        \n",
    "    #     if len(word) == 0:\n",
    "    #         return current[0].isAcceptor()\n",
    "    #     else:\n",
    "    #         print(current[0].name,current[1])\n",
    "    #         pos1 = [self.traverse(word[1:],(self.findStateT(i), self.manipStack(current[1], i))) for i in current[0].moves(word[0], current[1])] \n",
    "    #         pos2 = [self.traverse(word,(self.findStateT(i), self.manipStack(current[1], i))) for i in current[0].moves(\"/l\", current[1])]\n",
    "\n",
    "    #         possibleMoves = pos1 + pos2\n",
    "    #         if len(possibleMoves) == 0:\n",
    "    #             return False\n",
    "    #         else:\n",
    "    #             return reduce(lambda x,y: x or y, possibleMoves ,False)\n",
    "    # Check\n",
    "    def checkLanguage(self, word):\n",
    "        return self.isValid(self.init, word, [self.stackInit])\n",
    "    \n",
    "    def isValid(self, current, word, stack):\n",
    "        stk1 = current.moves(word, word[0],stack) \n",
    "        stk2 = current.moves(word, '/l',stack)\n",
    "        stk = []\n",
    "        if len(stk1) > 0:\n",
    "            stk += stk1\n",
    "        if len(stk2) > 0:\n",
    "            stk += stk2\n",
    "        print(stk)\n",
    "        while len(stk) > 0:\n",
    "            print(stk)\n",
    "            nextCurrent, nextWord, nextStack = stk.pop()\n",
    "            nextCurrent = self.findState(nextCurrent)\n",
    "            if len(nextWord) == 0 and nextCurrent.isAcceptor():\n",
    "                return True\n",
    "            \n",
    "            stk1 = nextCurrent.moves(nextWord, nextWord[0], nextStack)\n",
    "            stk2 = nextCurrent.moves(nextWord, '/l', nextStack)\n",
    "            if len(stk1) > 0:\n",
    "                stk += stk1\n",
    "            if len(stk2) > 0:\n",
    "                stk += stk2\n",
    "        return False\n",
    "\n",
    "\n",
    "\n",
    "\n",
    "\n",
    "\n"
   ]
  },
  {
   "cell_type": "markdown",
   "metadata": {},
   "source": []
  },
  {
   "cell_type": "markdown",
   "metadata": {
    "id": "IMysxEBzDTRm"
   },
   "source": [
    "### SOAL 1"
   ]
  },
  {
   "cell_type": "code",
   "execution_count": 437,
   "metadata": {
    "id": "Csjk6ulvDTRn"
   },
   "outputs": [],
   "source": [
    "states1 = ['q0','q1','q2','q3']\n",
    "alfabets1 = ['a', 'b']\n",
    "init1 = 'q0'\n",
    "accepts1 = ['q3']\n",
    "stackInit1 = '$'\n",
    "transitions1 = [\n",
    "    ['q0', (\"/l\", [['q1','/l', '/l']])],\n",
    "    ['q1', ('a', [['q1','/l','a'],['q2','/l','/l']])],\n",
    "    ['q1', ('b', [['q1','/l','b']])],\n",
    "    ['q2', ('a', [['q2','b','/l'],['q2','a','/l']])],\n",
    "    ['q2', ('b', [['q2','b','/l'],['q2','a','/l']])],\n",
    "    ['q2', ('/l', [['q3','$','$']])]\n",
    "]"
   ]
  },
  {
   "cell_type": "code",
   "execution_count": 438,
   "metadata": {
    "id": "owJm958SDTRo"
   },
   "outputs": [],
   "source": [
    "soal1 = PDA(states1, alfabets1, init1, accepts1, transitions1, stackInit1)\n",
    "soal1.build()"
   ]
  },
  {
   "cell_type": "code",
   "execution_count": 439,
   "metadata": {},
   "outputs": [
    {
     "name": "stdout",
     "output_type": "stream",
     "text": [
      "['q3', '$']\n"
     ]
    }
   ],
   "source": [
    "print(['q3','$', '$'][:-1])"
   ]
  },
  {
   "cell_type": "code",
   "execution_count": null,
   "metadata": {},
   "outputs": [],
   "source": []
  },
  {
   "cell_type": "code",
   "execution_count": 440,
   "metadata": {},
   "outputs": [
    {
     "name": "stdout",
     "output_type": "stream",
     "text": [
      "[('q1', 'bbaaa', ['$'])]\n",
      "[('q1', 'bbaaa', ['$'])]\n",
      "[[('q1', 'bbaaa', ['$', 'b'])], []]\n"
     ]
    },
    {
     "ename": "ValueError",
     "evalue": "not enough values to unpack (expected 3, got 0)",
     "output_type": "error",
     "traceback": [
      "\u001b[1;31m---------------------------------------------------------------------------\u001b[0m",
      "\u001b[1;31mValueError\u001b[0m                                Traceback (most recent call last)",
      "Cell \u001b[1;32mIn[440], line 1\u001b[0m\n\u001b[1;32m----> 1\u001b[0m \u001b[38;5;28mprint\u001b[39m(\u001b[43msoal1\u001b[49m\u001b[38;5;241;43m.\u001b[39;49m\u001b[43mcheckLanguage\u001b[49m\u001b[43m(\u001b[49m\u001b[38;5;124;43m'\u001b[39;49m\u001b[38;5;124;43mbbaaa\u001b[39;49m\u001b[38;5;124;43m'\u001b[39;49m\u001b[43m)\u001b[49m)\n",
      "Cell \u001b[1;32mIn[436], line 99\u001b[0m, in \u001b[0;36mPDA.checkLanguage\u001b[1;34m(self, word)\u001b[0m\n\u001b[0;32m     98\u001b[0m \u001b[38;5;28;01mdef\u001b[39;00m \u001b[38;5;21mcheckLanguage\u001b[39m(\u001b[38;5;28mself\u001b[39m, word):\n\u001b[1;32m---> 99\u001b[0m     \u001b[38;5;28;01mreturn\u001b[39;00m \u001b[38;5;28;43mself\u001b[39;49m\u001b[38;5;241;43m.\u001b[39;49m\u001b[43misValid\u001b[49m\u001b[43m(\u001b[49m\u001b[38;5;28;43mself\u001b[39;49m\u001b[38;5;241;43m.\u001b[39;49m\u001b[43minit\u001b[49m\u001b[43m,\u001b[49m\u001b[43m \u001b[49m\u001b[43mword\u001b[49m\u001b[43m,\u001b[49m\u001b[43m \u001b[49m\u001b[43m[\u001b[49m\u001b[38;5;28;43mself\u001b[39;49m\u001b[38;5;241;43m.\u001b[39;49m\u001b[43mstackInit\u001b[49m\u001b[43m]\u001b[49m\u001b[43m)\u001b[49m\n",
      "Cell \u001b[1;32mIn[436], line 106\u001b[0m, in \u001b[0;36mPDA.isValid\u001b[1;34m(self, current, word, stack)\u001b[0m\n\u001b[0;32m    104\u001b[0m \u001b[38;5;28;01mwhile\u001b[39;00m \u001b[38;5;28mlen\u001b[39m(stk) \u001b[38;5;241m>\u001b[39m \u001b[38;5;241m0\u001b[39m:\n\u001b[0;32m    105\u001b[0m     \u001b[38;5;28mprint\u001b[39m(stk)\n\u001b[1;32m--> 106\u001b[0m     nextCurrent, nextWord, nextStack \u001b[38;5;241m=\u001b[39m stk\u001b[38;5;241m.\u001b[39mpop()\n\u001b[0;32m    107\u001b[0m     nextCurrent \u001b[38;5;241m=\u001b[39m \u001b[38;5;28mself\u001b[39m\u001b[38;5;241m.\u001b[39mfindState(nextCurrent)\n\u001b[0;32m    108\u001b[0m     \u001b[38;5;28;01mif\u001b[39;00m \u001b[38;5;28mlen\u001b[39m(nextWord) \u001b[38;5;241m==\u001b[39m \u001b[38;5;241m0\u001b[39m \u001b[38;5;129;01mand\u001b[39;00m nextCurrent\u001b[38;5;241m.\u001b[39misAcceptor():\n",
      "\u001b[1;31mValueError\u001b[0m: not enough values to unpack (expected 3, got 0)"
     ]
    }
   ],
   "source": [
    "print(soal1.checkLanguage('bbaaa'))"
   ]
  },
  {
   "cell_type": "markdown",
   "metadata": {
    "id": "xYSIt8JyDTRp"
   },
   "source": [
    "Uji dengan sembarang kemungkinan"
   ]
  },
  {
   "cell_type": "code",
   "execution_count": null,
   "metadata": {
    "colab": {
     "base_uri": "https://localhost:8080/"
    },
    "id": "IlguqudZDTRq",
    "outputId": "9ae547ed-35f1-4c93-b6b8-42b56c1ef134"
   },
   "outputs": [
    {
     "name": "stdout",
     "output_type": "stream",
     "text": [
      "[]\n",
      "False\n",
      "[]\n",
      "False\n",
      "[]\n",
      "False\n",
      "[]\n",
      "False\n"
     ]
    }
   ],
   "source": [
    "print(soal1.checkLanguage('aaabb'))\n",
    "print(soal1.checkLanguage('bbbb'))\n",
    "print(soal1.checkLanguage('abababababababab'))\n",
    "print(soal1.checkLanguage('babbab'))"
   ]
  },
  {
   "cell_type": "markdown",
   "metadata": {
    "id": "lcTnN9tSDTRr"
   },
   "source": [
    "### SOAL 2"
   ]
  },
  {
   "cell_type": "code",
   "execution_count": null,
   "metadata": {
    "id": "80RIMw_KDTRr"
   },
   "outputs": [],
   "source": [
    "states2 = ['q0','q1','q2','q3', 'q4', 'q5','q6']\n",
    "alfabets2 = ['a', 'b']\n",
    "init2 = 'q0'\n",
    "accepts2 = ['q3','q6']\n",
    "transitions2 = [\n",
    "    ['q0', ('a', ['q1','q4'])],\n",
    "    ['q0', ('b', ['q2','q5'])],\n",
    "    ['q1', ('a', ['q3'])],\n",
    "    ['q2', ('b', ['q3'])],\n",
    "    ['q3', ('a', ['q3'])],\n",
    "    ['q3', ('b', ['q3'])],\n",
    "    ['q4', ('a', ['q4','q6'])],\n",
    "    ['q4', ('b', ['q5'])],\n",
    "    ['q5', ('a', ['q4'])],\n",
    "    ['q5', ('b', ['q5','q6'])],\n",
    "]"
   ]
  },
  {
   "cell_type": "code",
   "execution_count": null,
   "metadata": {
    "id": "_bs7qer2DTRs"
   },
   "outputs": [
    {
     "ename": "NameError",
     "evalue": "name 'AHN' is not defined",
     "output_type": "error",
     "traceback": [
      "\u001b[1;31m---------------------------------------------------------------------------\u001b[0m",
      "\u001b[1;31mNameError\u001b[0m                                 Traceback (most recent call last)",
      "Cell \u001b[1;32mIn[435], line 1\u001b[0m\n\u001b[1;32m----> 1\u001b[0m soal2 \u001b[38;5;241m=\u001b[39m \u001b[43mAHN\u001b[49m(states2, alfabets2, init2, accepts2, transitions2)\n\u001b[0;32m      2\u001b[0m soal2\u001b[38;5;241m.\u001b[39mbuild()\n",
      "\u001b[1;31mNameError\u001b[0m: name 'AHN' is not defined"
     ]
    }
   ],
   "source": [
    "soal2 = AHN(states2, alfabets2, init2, accepts2, transitions2)\n",
    "soal2.build()"
   ]
  },
  {
   "cell_type": "markdown",
   "metadata": {
    "id": "hsQQExeMDTRs"
   },
   "source": [
    "Uji dengan sembarang kemungkinan"
   ]
  },
  {
   "cell_type": "code",
   "execution_count": null,
   "metadata": {
    "colab": {
     "base_uri": "https://localhost:8080/"
    },
    "id": "7e12AAhxDTRs",
    "outputId": "598b2961-4269-4a17-8390-76fe0f1ffb7b"
   },
   "outputs": [
    {
     "name": "stdout",
     "output_type": "stream",
     "text": [
      "aabb is valid\n",
      "bbbb is valid\n",
      "abababababababab is not valid\n",
      "babbab is not valid\n"
     ]
    }
   ],
   "source": [
    "print(soal2.checkLanguage('aabb'))\n",
    "print(soal2.checkLanguage('bbbb'))\n",
    "print(soal2.checkLanguage('abababababababab'))\n",
    "print(soal2.checkLanguage('babbab'))"
   ]
  },
  {
   "cell_type": "markdown",
   "metadata": {
    "id": "0DEZqS-6DTRt"
   },
   "source": [
    "### SOAL 3"
   ]
  },
  {
   "cell_type": "code",
   "execution_count": null,
   "metadata": {
    "id": "8-ZfWoDDDTRt"
   },
   "outputs": [],
   "source": [
    "states3 = ['q0','q1','q2','q3']\n",
    "alfabets3 = ['a', 'b']\n",
    "init3 = 'q0'\n",
    "accepts3 = ['q0']\n",
    "transitions3 = [\n",
    "    ['q0', ('a', ['q1'])],\n",
    "    ['q0', ('b', ['q2'])],\n",
    "    ['q1', ('a', ['q0'])],\n",
    "    ['q1', ('b', ['q3'])],\n",
    "    ['q2', ('a', ['q3'])],\n",
    "    ['q2', ('b', ['q0'])],\n",
    "    ['q3', ('a', ['q2'])],\n",
    "    ['q3', ('b', ['q1'])],\n",
    "]"
   ]
  },
  {
   "cell_type": "code",
   "execution_count": null,
   "metadata": {
    "id": "y37gX5-jDTRt"
   },
   "outputs": [],
   "source": [
    "soal3 = AHN(states3, alfabets3, init3, accepts3, transitions3)\n",
    "soal3.build()"
   ]
  },
  {
   "cell_type": "markdown",
   "metadata": {
    "id": "4_9uoQLJDTRt"
   },
   "source": [
    "Uji dengan sembarang kemungkinan"
   ]
  },
  {
   "cell_type": "code",
   "execution_count": null,
   "metadata": {
    "colab": {
     "base_uri": "https://localhost:8080/"
    },
    "id": "AQU9zhxPDTRu",
    "outputId": "b890a79a-b8fd-4196-f255-900e1aafaf30"
   },
   "outputs": [
    {
     "name": "stdout",
     "output_type": "stream",
     "text": [
      "aabb is valid\n",
      "bbbb is valid\n",
      "abb is not valid\n",
      "aab is not valid\n"
     ]
    }
   ],
   "source": [
    "print(soal3.checkLanguage('aabb'))\n",
    "print(soal3.checkLanguage('bbbb'))\n",
    "print(soal3.checkLanguage('abb'))\n",
    "print(soal3.checkLanguage('aab'))"
   ]
  }
 ],
 "metadata": {
  "colab": {
   "provenance": []
  },
  "kernelspec": {
   "display_name": "Python 3",
   "language": "python",
   "name": "python3"
  },
  "language_info": {
   "codemirror_mode": {
    "name": "ipython",
    "version": 3
   },
   "file_extension": ".py",
   "mimetype": "text/x-python",
   "name": "python",
   "nbconvert_exporter": "python",
   "pygments_lexer": "ipython3",
   "version": "3.12.3"
  }
 },
 "nbformat": 4,
 "nbformat_minor": 0
}
