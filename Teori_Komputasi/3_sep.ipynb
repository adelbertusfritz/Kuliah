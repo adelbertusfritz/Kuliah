{
 "cells": [
  {
   "cell_type": "code",
   "execution_count": 15,
   "metadata": {},
   "outputs": [
    {
     "data": {
      "text/plain": [
       "'aabaa'"
      ]
     },
     "execution_count": 15,
     "metadata": {},
     "output_type": "execute_result"
    }
   ],
   "source": [
    "# {a^(n)ba^(n), n in Z}\n",
    "test1 = lambda n: 'a'*n+'b'+'a'*n\n",
    "\n",
    "test1(2)"
   ]
  },
  {
   "cell_type": "code",
   "execution_count": 23,
   "metadata": {},
   "outputs": [
    {
     "name": "stdout",
     "output_type": "stream",
     "text": [
      "{'abbbbbb', 'abbbbbbb', 'abbbbbbbbb', 'abb', 'ab', 'abbb', 'abbbbbbbbbb', 'abbbb', 'abbbbb', 'abbbbbbbb'}\n",
      "{'abbbbbb', 'abbbbbbb', 'abbbbbbbbb', 'abb', 'ab', 'abbb', 'abbbbbbbbbb', 'abbbb', 'abbbbb', 'abbbbbbbb'}\n"
     ]
    },
    {
     "data": {
      "text/plain": [
       "True"
      ]
     },
     "execution_count": 23,
     "metadata": {},
     "output_type": "execute_result"
    }
   ],
   "source": [
    "q1 = {\n",
    "    1: ('S', 'aB'),\n",
    "    2: ('B', 'bB'),\n",
    "    3: ('B', 'b'),\n",
    "}\n",
    "\n",
    "def lang1 (n):\n",
    "    word = q1[1][1]\n",
    "    for i in range(n-1):\n",
    "        word = word.replace(q1[2][0], q1[2][1])\n",
    "    word = word.replace(q1[3][0], q1[3][1])\n",
    "    return word\n",
    "\n",
    "language1 = lambda n : set([lang1(i) for i in range(1, n+1)])\n",
    "\n",
    "test1 = lambda n: 'a'+'b'*n\n",
    "\n",
    "langtest1 = lambda n: set([test1(i) for i in range(1, n+1)])\n",
    "\n",
    "language1(10) == langtest1(10)"
   ]
  },
  {
   "cell_type": "code",
   "execution_count": 11,
   "metadata": {},
   "outputs": [
    {
     "data": {
      "text/plain": [
       "'3es3'"
      ]
     },
     "execution_count": 11,
     "metadata": {},
     "output_type": "execute_result"
    }
   ],
   "source": [
    "'test'.replace('t', '3')"
   ]
  }
 ],
 "metadata": {
  "kernelspec": {
   "display_name": "Python 3",
   "language": "python",
   "name": "python3"
  },
  "language_info": {
   "codemirror_mode": {
    "name": "ipython",
    "version": 3
   },
   "file_extension": ".py",
   "mimetype": "text/x-python",
   "name": "python",
   "nbconvert_exporter": "python",
   "pygments_lexer": "ipython3",
   "version": "3.11.5"
  }
 },
 "nbformat": 4,
 "nbformat_minor": 2
}
