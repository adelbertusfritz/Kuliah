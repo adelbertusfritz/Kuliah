{
 "cells": [
  {
   "cell_type": "code",
   "execution_count": 19,
   "metadata": {},
   "outputs": [
    {
     "name": "stdout",
     "output_type": "stream",
     "text": [
      "True\n",
      "{'aba', 'aaaabaaaa', 'aaabaaa', 'aaaaaaabaaaaaaa', 'aaaaabaaaaa', 'aabaa', 'aaaaaabaaaaaa', 'aaaaaaaabaaaaaaaa', 'aaaaaaaaaabaaaaaaaaaa', 'aaaaaaaaabaaaaaaaaa'}\n"
     ]
    }
   ],
   "source": [
    "q1 = {\n",
    "    1: ('S', 'AbA'),\n",
    "    2: ('A', 'Aa'),\n",
    "    3: ('A', 'a'),\n",
    "}\n",
    "\n",
    "def lang1 (n):\n",
    "    word = q1[1][1]\n",
    "    for i in range(n-1):\n",
    "        word = word.replace(q1[2][0], q1[2][1])\n",
    "    word = word.replace(q1[3][0], q1[3][1])\n",
    "    return word\n",
    "\n",
    "language1 = lambda n : set([lang1(i) for i in range(1, n+1)])\n",
    "\n",
    "test1 = lambda n: 'a'*n+'b'+'a'*n\n",
    "\n",
    "langtest1 = lambda n: set([test1(i) for i in range(1, n+1)])\n",
    "\n",
    "print(language1(10) == langtest1(10))\n",
    "print(language1(10))"
   ]
  },
  {
   "cell_type": "code",
   "execution_count": 20,
   "metadata": {},
   "outputs": [
    {
     "name": "stdout",
     "output_type": "stream",
     "text": [
      "True\n",
      "{'abccccccc', 'abcccccccccc', 'abcccccccc', 'abcccccc', 'abccccccccc', 'abccccc', 'abcccc', 'abcc', 'abc', 'abccc'}\n"
     ]
    }
   ],
   "source": [
    "q2 = {\n",
    "    1: ('S', 'abC'),\n",
    "    2: ('C', 'Cc'),\n",
    "    3: ('C', 'c'),\n",
    "}\n",
    "\n",
    "def lang2 (n):\n",
    "    word = q2[1][1]\n",
    "    for i in range(n-1):\n",
    "        word = word.replace(q2[2][0], q2[2][1])\n",
    "    word = word.replace(q2[3][0], q2[3][1])\n",
    "    return word\n",
    "\n",
    "language2 = lambda n : set([lang2(i) for i in range(1, n+1)])\n",
    "\n",
    "test2 = lambda n: 'ab'+'c'*n\n",
    "\n",
    "langtest2 = lambda n: set([test2(i) for i in range(1, n+1)])\n",
    "\n",
    "print(language2(10) == langtest2(10))\n",
    "print(langtest2(10))"
   ]
  },
  {
   "cell_type": "code",
   "execution_count": 22,
   "metadata": {},
   "outputs": [
    {
     "name": "stdout",
     "output_type": "stream",
     "text": [
      "True\n",
      "{'bbbbbbbbbabbbbbbbbb', 'bbbbbbbabbbbbbb', 'bbbbbbbbabbbbbbbb', 'bbbbbabbbbb', 'bab', 'bbbabbb', 'bbbbabbbb', 'bbbbbbabbbbbb', 'bbabb', 'bbbbbbbbbbabbbbbbbbbb'}\n"
     ]
    }
   ],
   "source": [
    "q3 = {\n",
    "    1: ('S', 'BaB'),\n",
    "    2: ('B', 'Bb'),\n",
    "    3: ('B', 'b'),\n",
    "}\n",
    "\n",
    "def lang3 (n):\n",
    "    word = q3[1][1]\n",
    "    for i in range(n-1):\n",
    "        word = word.replace(q3[2][0], q3[2][1])\n",
    "    word = word.replace(q3[3][0], q3[3][1])\n",
    "    return word\n",
    "\n",
    "language3 = lambda n : set([lang3(i) for i in range(1, n+1)])\n",
    "\n",
    "test3 = lambda n: 'b'*n+ 'a'+'b'*n\n",
    "\n",
    "langtest3 = lambda n: set([test3(i) for i in range(1, n+1)])\n",
    "\n",
    "print(language3(10) == langtest3(10))\n",
    "print(language3(10))"
   ]
  },
  {
   "cell_type": "code",
   "execution_count": 23,
   "metadata": {},
   "outputs": [
    {
     "name": "stdout",
     "output_type": "stream",
     "text": [
      "True\n",
      "{'bbaabb', 'bbbaabbb', 'bbbbbbaabbbbbb', 'bbbbbbbbbbaabbbbbbbbbb', 'baab', 'bbbbaabbbb', 'bbbbbaabbbbb', 'bbbbbbbbaabbbbbbbb', 'bbbbbbbaabbbbbbb', 'bbbbbbbbbaabbbbbbbbb'}\n"
     ]
    }
   ],
   "source": [
    "q4 = {\n",
    "    1: ('S', 'BaaB'),\n",
    "    2: ('B', 'Bb'),\n",
    "    3: ('B', 'b'),\n",
    "}\n",
    "\n",
    "def lang4 (n):\n",
    "    word = q4[1][1]\n",
    "    for i in range(n-1):\n",
    "        word = word.replace(q4[2][0], q4[2][1])\n",
    "    word = word.replace(q4[3][0], q4[3][1])\n",
    "    return word\n",
    "\n",
    "language4 = lambda n : set([lang4(i) for i in range(1, n+1)])\n",
    "\n",
    "test4 = lambda n: 'b'*n+ 'aa'+'b'*n\n",
    "\n",
    "langtest4 = lambda n: set([test4(i) for i in range(1, n+1)])\n",
    "\n",
    "print(language4(10) == langtest4(10))\n",
    "print(language4(10))"
   ]
  }
 ],
 "metadata": {
  "kernelspec": {
   "display_name": "Python 3",
   "language": "python",
   "name": "python3"
  },
  "language_info": {
   "codemirror_mode": {
    "name": "ipython",
    "version": 3
   },
   "file_extension": ".py",
   "mimetype": "text/x-python",
   "name": "python",
   "nbconvert_exporter": "python",
   "pygments_lexer": "ipython3",
   "version": "3.12.3"
  }
 },
 "nbformat": 4,
 "nbformat_minor": 2
}
