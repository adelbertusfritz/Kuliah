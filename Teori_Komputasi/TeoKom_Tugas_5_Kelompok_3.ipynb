{
  "cells": [
    {
      "cell_type": "markdown",
      "metadata": {
        "id": "-e1PsG_IDTRj"
      },
      "source": [
        "# Listing Program Tugas 5 Kelompok 3\n",
        "- Rifdah Salsabila - 2106653016\n",
        "- Elsya Nareswari - 2106702535\n",
        "- Jesica Andriana - 2106726163\n",
        "- Fritz Adelbertus Sitindaon - 2206027904"
      ]
    },
    {
      "cell_type": "markdown",
      "metadata": {
        "id": "pFqKO50VDTRl"
      },
      "source": [
        "## Konstruksi Kelas State dan Automata Hingga Nondeteministik"
      ]
    },
    {
      "cell_type": "code",
      "execution_count": 21,
      "metadata": {
        "id": "ysAjD6qIDTRm"
      },
      "outputs": [],
      "source": [
        "from functools import reduce\n",
        "class State():\n",
        "    def __init__(self, name):\n",
        "        self.name = name\n",
        "        self.acceptor = False\n",
        "        self.transitions = {\"lambda\": []}\n",
        "\n",
        "    # Helpers\n",
        "    def getName(self):\n",
        "        return self.name\n",
        "\n",
        "    def setAccept(self):\n",
        "        self.acceptor = True\n",
        "\n",
        "    def isAcceptor(self):\n",
        "        return self.acceptor\n",
        "\n",
        "    # Add Transitions\n",
        "    def addTransition(self, transition):\n",
        "        self.transitions[transition[0]] = transition[1]\n",
        "\n",
        "    # Move\n",
        "    def moves(self, input):\n",
        "        if input in list(self.transitions.keys()):\n",
        "          return self.transitions[input]\n",
        "        else:\n",
        "          return []\n",
        "\n",
        "\n",
        "class AHN():\n",
        "    # Initilize\n",
        "    def __init__(self, states, alfabets, init, accepts, transitions):\n",
        "        self.states = states\n",
        "        self.alfabets = alfabets\n",
        "        self.init = init\n",
        "        self.accepts = accepts\n",
        "        self.transitions = transitions\n",
        "        self.current = None\n",
        "\n",
        "    # Helper\n",
        "    def findState(self, name):\n",
        "        for state in self.states:\n",
        "            if state.getName() == name:\n",
        "                return state\n",
        "\n",
        "    # Build\n",
        "    def build(self):\n",
        "        self.states = [State(i) for i in self.states]\n",
        "        self.init = self.findState(self.init)\n",
        "        for acceptor in self.accepts:\n",
        "            self.findState(acceptor).setAccept()\n",
        "        for transition in self.transitions:\n",
        "            self.findState(transition[0]).addTransition(transition[1])\n",
        "\n",
        "    def traverse(self, word, current):\n",
        "        if len(word) == 0:\n",
        "            return current.isAcceptor()\n",
        "        else:\n",
        "            possibleMoves = [self.traverse(word[1:],self.findState(i)) for i in current.moves(word[0])] + [self.traverse(word,self.findState(i)) for i in current.moves(\"lambda\")]\n",
        "            if len(possibleMoves) == 0:\n",
        "                return False\n",
        "            else:\n",
        "                return reduce(lambda x,y: x or y, possibleMoves ,False)\n",
        "    # Check\n",
        "    def checkLanguage(self, word):\n",
        "        if self.traverse(word, self.init):\n",
        "            return f'{word} is valid'\n",
        "        return f'{word} is not valid'\n",
        "\n",
        "\n",
        "\n"
      ]
    },
    {
      "cell_type": "markdown",
      "metadata": {
        "id": "IMysxEBzDTRm"
      },
      "source": [
        "### SOAL 1"
      ]
    },
    {
      "cell_type": "code",
      "execution_count": 22,
      "metadata": {
        "id": "Csjk6ulvDTRn"
      },
      "outputs": [],
      "source": [
        "states1 = ['q0','q1','q2','q3','q4']\n",
        "alfabets1 = ['a', 'b']\n",
        "init1 = 'q0'\n",
        "accepts1 = ['q0','q1','q2','q3','q4']\n",
        "transitions1 = [\n",
        "    ['q0', (\"lambda\", ['q1', 'q2'])],\n",
        "    ['q1', ('a', ['q2'])],\n",
        "    ['q1', ('b', ['q3'])],\n",
        "    ['q2', ('a', ['q4'])],\n",
        "    ['q2', ('b', ['q1'])],\n",
        "    ['q3', ('a', ['q4'])],\n",
        "    ['q4', ('b', ['q3'])],\n",
        "]"
      ]
    },
    {
      "cell_type": "code",
      "execution_count": 23,
      "metadata": {
        "id": "owJm958SDTRo"
      },
      "outputs": [],
      "source": [
        "soal1 = AHN(states1, alfabets1, init1, accepts1, transitions1)\n",
        "soal1.build()"
      ]
    },
    {
      "cell_type": "markdown",
      "metadata": {
        "id": "xYSIt8JyDTRp"
      },
      "source": [
        "Uji dengan sembarang kemungkinan"
      ]
    },
    {
      "cell_type": "code",
      "execution_count": 24,
      "metadata": {
        "colab": {
          "base_uri": "https://localhost:8080/"
        },
        "id": "IlguqudZDTRq",
        "outputId": "9ae547ed-35f1-4c93-b6b8-42b56c1ef134"
      },
      "outputs": [
        {
          "name": "stdout",
          "output_type": "stream",
          "text": [
            "aabb is not valid\n",
            "bbbb is not valid\n",
            "abababababababab is valid\n",
            "babbab is valid\n"
          ]
        }
      ],
      "source": [
        "print(soal1.checkLanguage('aabb'))\n",
        "print(soal1.checkLanguage('bbbb'))\n",
        "print(soal1.checkLanguage('abababababababab'))\n",
        "print(soal1.checkLanguage('babbab'))"
      ]
    },
    {
      "cell_type": "markdown",
      "metadata": {
        "id": "lcTnN9tSDTRr"
      },
      "source": [
        "### SOAL 2"
      ]
    },
    {
      "cell_type": "code",
      "execution_count": 25,
      "metadata": {
        "id": "80RIMw_KDTRr"
      },
      "outputs": [],
      "source": [
        "states2 = ['q0','q1','q2','q3', 'q4', 'q5','q6']\n",
        "alfabets2 = ['a', 'b']\n",
        "init2 = 'q0'\n",
        "accepts2 = ['q3','q6']\n",
        "transitions2 = [\n",
        "    ['q0', ('a', ['q1','q4'])],\n",
        "    ['q0', ('b', ['q2','q5'])],\n",
        "    ['q1', ('a', ['q3'])],\n",
        "    ['q2', ('b', ['q3'])],\n",
        "    ['q3', ('a', ['q3'])],\n",
        "    ['q3', ('b', ['q3'])],\n",
        "    ['q4', ('a', ['q4','q6'])],\n",
        "    ['q4', ('b', ['q5'])],\n",
        "    ['q5', ('a', ['q4'])],\n",
        "    ['q5', ('b', ['q5','q6'])],\n",
        "]"
      ]
    },
    {
      "cell_type": "code",
      "execution_count": 26,
      "metadata": {
        "id": "_bs7qer2DTRs"
      },
      "outputs": [],
      "source": [
        "soal2 = AHN(states2, alfabets2, init2, accepts2, transitions2)\n",
        "soal2.build()"
      ]
    },
    {
      "cell_type": "markdown",
      "metadata": {
        "id": "hsQQExeMDTRs"
      },
      "source": [
        "Uji dengan sembarang kemungkinan"
      ]
    },
    {
      "cell_type": "code",
      "execution_count": 27,
      "metadata": {
        "colab": {
          "base_uri": "https://localhost:8080/"
        },
        "id": "7e12AAhxDTRs",
        "outputId": "598b2961-4269-4a17-8390-76fe0f1ffb7b"
      },
      "outputs": [
        {
          "name": "stdout",
          "output_type": "stream",
          "text": [
            "aabb is valid\n",
            "bbbb is valid\n",
            "abababababababab is not valid\n",
            "babbab is not valid\n"
          ]
        }
      ],
      "source": [
        "print(soal2.checkLanguage('aabb'))\n",
        "print(soal2.checkLanguage('bbbb'))\n",
        "print(soal2.checkLanguage('abababababababab'))\n",
        "print(soal2.checkLanguage('babbab'))"
      ]
    },
    {
      "cell_type": "markdown",
      "metadata": {
        "id": "0DEZqS-6DTRt"
      },
      "source": [
        "### SOAL 3"
      ]
    },
    {
      "cell_type": "code",
      "execution_count": 2,
      "metadata": {
        "id": "8-ZfWoDDDTRt"
      },
      "outputs": [],
      "source": [
        "states3 = ['q0','q1','q2','q3']\n",
        "alfabets3 = ['a', 'b']\n",
        "init3 = 'q0'\n",
        "accepts3 = ['q0']\n",
        "transitions3 = [\n",
        "    ['q0', ('a', ['q1'])],\n",
        "    ['q0', ('b', ['q2'])],\n",
        "    ['q1', ('a', ['q0'])],\n",
        "    ['q1', ('b', ['q3'])],\n",
        "    ['q2', ('a', ['q3'])],\n",
        "    ['q2', ('b', ['q0'])],\n",
        "    ['q3', ('a', ['q2'])],\n",
        "    ['q3', ('b', ['q1'])],\n",
        "]"
      ]
    },
    {
      "cell_type": "code",
      "execution_count": 3,
      "metadata": {
        "id": "y37gX5-jDTRt"
      },
      "outputs": [],
      "source": [
        "soal3 = AHN(states3, alfabets3, init3, accepts3, transitions3)\n",
        "soal3.build()"
      ]
    },
    {
      "cell_type": "markdown",
      "metadata": {
        "id": "4_9uoQLJDTRt"
      },
      "source": [
        "Uji dengan sembarang kemungkinan"
      ]
    },
    {
      "cell_type": "code",
      "execution_count": 4,
      "metadata": {
        "colab": {
          "base_uri": "https://localhost:8080/"
        },
        "id": "AQU9zhxPDTRu",
        "outputId": "b890a79a-b8fd-4196-f255-900e1aafaf30"
      },
      "outputs": [
        {
          "name": "stdout",
          "output_type": "stream",
          "text": [
            "aabb is valid\n",
            "bbbb is valid\n",
            "abb is not valid\n",
            "aab is not valid\n"
          ]
        }
      ],
      "source": [
        "print(soal3.checkLanguage('aabb'))\n",
        "print(soal3.checkLanguage('bbbb'))\n",
        "print(soal3.checkLanguage('abb'))\n",
        "print(soal3.checkLanguage('aab'))"
      ]
    }
  ],
  "metadata": {
    "colab": {
      "provenance": []
    },
    "kernelspec": {
      "display_name": "Python 3",
      "language": "python",
      "name": "python3"
    },
    "language_info": {
      "codemirror_mode": {
        "name": "ipython",
        "version": 3
      },
      "file_extension": ".py",
      "mimetype": "text/x-python",
      "name": "python",
      "nbconvert_exporter": "python",
      "pygments_lexer": "ipython3",
      "version": "3.11.5"
    }
  },
  "nbformat": 4,
  "nbformat_minor": 0
}
