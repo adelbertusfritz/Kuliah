{
 "cells": [
  {
   "cell_type": "code",
   "execution_count": 26,
   "metadata": {},
   "outputs": [],
   "source": [
    "class State():\n",
    "    def __init__(self, name):\n",
    "        self.name = name\n",
    "        self.acceptor = False\n",
    "        self.transitions = {}\n",
    "    \n",
    "    # Helpers\n",
    "    def getName(self):\n",
    "        return self.name\n",
    "    \n",
    "    def setAccept(self):\n",
    "        self.acceptor = True\n",
    "\n",
    "    def isAcceptor(self):\n",
    "        return self.acceptor\n",
    "    \n",
    "    # Add Transitions\n",
    "    def addTransition(self, transition):\n",
    "        self.transitions[transition[0]] = transition[1]\n",
    "        \n",
    "    # Move\n",
    "    def move(self, input):\n",
    "        return self.transitions[input]\n",
    "    \n",
    "    \n",
    "\n",
    "class AHD():\n",
    "    # Initilize\n",
    "    def __init__(self, states, alfabets, init, accepts, transitions):\n",
    "        self.states = states\n",
    "        self.alfabets = alfabets\n",
    "        self.init = init\n",
    "        self.accepts = accepts\n",
    "        self.transitions = transitions\n",
    "        self.current = None\n",
    "    \n",
    "    # Helper\n",
    "    def findState(self, name):\n",
    "        for state in self.states:\n",
    "            if state.getName() == name:\n",
    "                return state\n",
    "    \n",
    "    # Build\n",
    "    def build(self):\n",
    "        self.states = [State(i) for i in self.states]\n",
    "        self.init = self.findState(self.init)\n",
    "        for acceptor in self.accepts:\n",
    "            self.findState(acceptor).setAccept()\n",
    "        for transition in self.transitions:\n",
    "            self.findState(transition[0]).addTransition(transition[1])\n",
    "    \n",
    "    # Check\n",
    "    def checkLanguage(self, language):\n",
    "        self.current = self.init\n",
    "        for alfabet in language:\n",
    "            if alfabet not in self.alfabets:\n",
    "                return\n",
    "            self.current = self.findState(self.current.move(alfabet))\n",
    "        if self.current.isAcceptor():\n",
    "            return f'{language} is valid'\n",
    "        return f'{language} is not valid'\n",
    "        \n",
    "\n",
    "    "
   ]
  },
  {
   "cell_type": "code",
   "execution_count": 28,
   "metadata": {},
   "outputs": [],
   "source": [
    "states3 = ['q0','q1','q2','q3']\n",
    "alfabets3 = ['a', 'b']\n",
    "init3 = 'q0'\n",
    "accepts3 = ['q0']\n",
    "transitions3 = [\n",
    "    ['q0', ('a', 'q1')],\n",
    "    ['q0', ('b', 'q2')],\n",
    "    ['q1', ('a', 'q0')],\n",
    "    ['q1', ('b', 'q3')],\n",
    "    ['q2', ('a', 'q3')],\n",
    "    ['q2', ('b', 'q0')],\n",
    "    ['q3', ('a', 'q2')],\n",
    "    ['q3', ('b', 'q1')],\n",
    "]"
   ]
  },
  {
   "cell_type": "code",
   "execution_count": 29,
   "metadata": {},
   "outputs": [
    {
     "name": "stdout",
     "output_type": "stream",
     "text": [
      "{'a': 'q1'}\n",
      "{'a': 'q1', 'b': 'q2'}\n",
      "{'a': 'q0'}\n",
      "{'a': 'q0', 'b': 'q3'}\n",
      "{'a': 'q3'}\n",
      "{'a': 'q3', 'b': 'q0'}\n",
      "{'a': 'q2'}\n",
      "{'a': 'q2', 'b': 'q1'}\n"
     ]
    }
   ],
   "source": [
    "soal3 = AHD(states3, alfabets3, init3, accepts3, transitions3)\n",
    "soal3.build()"
   ]
  },
  {
   "cell_type": "code",
   "execution_count": 23,
   "metadata": {},
   "outputs": [
    {
     "name": "stdout",
     "output_type": "stream",
     "text": [
      "{'a': 'q1'}\n",
      "{'a': 'q1', 'b': 'q2'}\n",
      "{'a': 'q0'}\n",
      "{'a': 'q0', 'b': 'q3'}\n",
      "{'a': 'q3'}\n",
      "{'a': 'q3', 'b': 'q0'}\n",
      "{'a': 'q2'}\n",
      "{'a': 'q2', 'b': 'q1'}\n"
     ]
    }
   ],
   "source": [
    "soal3.build()"
   ]
  },
  {
   "cell_type": "code",
   "execution_count": 25,
   "metadata": {},
   "outputs": [
    {
     "name": "stdout",
     "output_type": "stream",
     "text": [
      "aabb is valid\n",
      "bbbb is valid\n",
      "abb is not valid\n",
      "aab is not valid\n"
     ]
    }
   ],
   "source": [
    "print(soal3.checkLanguage('aabb'))\n",
    "print(soal3.checkLanguage('bbbb'))\n",
    "print(soal3.checkLanguage('abb'))\n",
    "print(soal3.checkLanguage('aab'))"
   ]
  },
  {
   "cell_type": "code",
   "execution_count": null,
   "metadata": {},
   "outputs": [],
   "source": [
    "soal"
   ]
  }
 ],
 "metadata": {
  "kernelspec": {
   "display_name": "Python 3",
   "language": "python",
   "name": "python3"
  },
  "language_info": {
   "codemirror_mode": {
    "name": "ipython",
    "version": 3
   },
   "file_extension": ".py",
   "mimetype": "text/x-python",
   "name": "python",
   "nbconvert_exporter": "python",
   "pygments_lexer": "ipython3",
   "version": "3.11.5"
  }
 },
 "nbformat": 4,
 "nbformat_minor": 2
}
